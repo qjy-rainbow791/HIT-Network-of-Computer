{
 "metadata": {
  "language_info": {
   "codemirror_mode": {
    "name": "ipython",
    "version": 3
   },
   "file_extension": ".py",
   "mimetype": "text/x-python",
   "name": "python",
   "nbconvert_exporter": "python",
   "pygments_lexer": "ipython3",
   "version": "3.8.3-final"
  },
  "orig_nbformat": 2,
  "kernelspec": {
   "name": "python3",
   "display_name": "Python 3"
  }
 },
 "nbformat": 4,
 "nbformat_minor": 2,
 "cells": [
  {
   "cell_type": "code",
   "execution_count": 1,
   "metadata": {},
   "outputs": [],
   "source": [
    "import threading\n",
    "import gbn\n",
    "import sr"
   ]
  },
  {
   "cell_type": "code",
   "execution_count": 2,
   "metadata": {},
   "outputs": [],
   "source": [
    "def run_gbn(local: tuple([str,int]),\n",
    "            remote: tuple([str,int])):\n",
    "    host_1 = gbn.GBN(local, remote)\n",
    "    host_2 = gbn.GBN(remote, local)\n",
    "    threading.Thread(target=host_1.server_run).start()  \n",
    "    threading.Thread(target=host_2.client_run).start()  "
   ]
  },
  {
   "cell_type": "code",
   "execution_count": 3,
   "metadata": {},
   "outputs": [],
   "source": [
    "def run_sr(local: tuple([str,int]),\n",
    "           remote: tuple([str,int])):\n",
    "    host_1 = sr.SR(local, remote)\n",
    "    host_2 = sr.SR(remote, local)\n",
    "    threading.Thread(target=host_1.server_run).start() \n",
    "    threading.Thread(target=host_2.client_run).start() "
   ]
  },
  {
   "cell_type": "code",
   "execution_count": 4,
   "metadata": {},
   "outputs": [],
   "source": [
    "run_gbn(('127,0,0,1',5000),('127.0.0.1',5001))"
   ]
  },
  {
   "cell_type": "code",
   "execution_count": 5,
   "metadata": {},
   "outputs": [
    {
     "output_type": "stream",
     "name": "stderr",
     "text": [
      "Exception in thread Thread-6:\n",
      "Traceback (most recent call last):\n",
      "  File \"C:\\ProgramData\\Anaconda3\\lib\\threading.py\", line 932, in _bootstrap_inner\n",
      "    self.run()\n",
      "  File \"C:\\ProgramData\\Anaconda3\\lib\\threading.py\", line 870, in run\n",
      "    self._target(*self._args, **self._kwargs)\n",
      "  File \"c:\\Users\\Admin\\Desktop\\workspace\\python\\GBNnSR\\sr.py\", line 84, in server_run\n",
      "    self.socket.bind(self.local_address)\n",
      "socket.gaierror: [Errno 11001] getaddrinfo failed\n",
      "Exception in thread Thread-7:\n",
      "Traceback (most recent call last):\n",
      "  File \"C:\\ProgramData\\Anaconda3\\lib\\threading.py\", line 932, in _bootstrap_inner\n",
      "    self.run()\n",
      "  File \"C:\\ProgramData\\Anaconda3\\lib\\threading.py\", line 870, in run\n",
      "    self._target(*self._args, **self._kwargs)\n",
      "  File \"c:\\Users\\Admin\\Desktop\\workspace\\python\\GBNnSR\\sr.py\", line 116, in client_run\n",
      "    self.socket.bind(self.local_address)\n",
      "OSError: [WinError 10048] 通常每个套接字地址(协议/网络地址/端口)只允许使用一次。\n"
     ]
    }
   ],
   "source": [
    "run_sr(('127,0,0,1',5000),('127.0.0.1',5001))"
   ]
  },
  {
   "cell_type": "code",
   "execution_count": null,
   "metadata": {},
   "outputs": [],
   "source": []
  }
 ]
}